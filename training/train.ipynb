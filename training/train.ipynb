{
 "cells": [
  {
   "cell_type": "code",
   "execution_count": 21,
   "metadata": {},
   "outputs": [
    {
     "name": "stdout",
     "output_type": "stream",
     "text": [
      "Note: you may need to restart the kernel to use updated packages.\n"
     ]
    },
    {
     "name": "stderr",
     "output_type": "stream",
     "text": [
      "\n",
      "[notice] A new release of pip is available: 24.0 -> 24.2\n",
      "[notice] To update, run: python.exe -m pip install --upgrade pip\n"
     ]
    },
    {
     "name": "stdout",
     "output_type": "stream",
     "text": [
      "Note: you may need to restart the kernel to use updated packages.\n"
     ]
    },
    {
     "name": "stderr",
     "output_type": "stream",
     "text": [
      "\n",
      "[notice] A new release of pip is available: 24.0 -> 24.2\n",
      "[notice] To update, run: python.exe -m pip install --upgrade pip\n"
     ]
    }
   ],
   "source": [
    "%pip -q install torch torchvision torchaudio --index-url https://download.pytorch.org/whl/cu121\n",
    "%pip -q install -r ../requirements.txt"
   ]
  },
  {
   "cell_type": "code",
   "execution_count": 22,
   "metadata": {},
   "outputs": [],
   "source": [
    "import torch\n",
    "import torch.nn as nn\n",
    "import torch.optim as optim\n",
    "from tqdm import tqdm\n",
    "from torch.nn.utils.rnn import pack_sequence\n",
    "import torch.nn.functional as F\n",
    "import torch.nn.utils.rnn as rnn_utils\n",
    "import pandas as pd\n",
    "from torch.utils.data import DataLoader, Dataset"
   ]
  },
  {
   "cell_type": "code",
   "execution_count": 23,
   "metadata": {},
   "outputs": [],
   "source": [
    "torch.manual_seed(1234)\n",
    "torch.cuda.manual_seed(1234)\n",
    "\n",
    "device = torch.device(\"cuda:0\" if torch.cuda.is_available() else \"cpu\")"
   ]
  },
  {
   "cell_type": "code",
   "execution_count": 24,
   "metadata": {},
   "outputs": [],
   "source": [
    "batch_size = 1\n",
    "industry_size = 32\n",
    "product_name_size = 20\n",
    "product_category_size = 26"
   ]
  },
  {
   "cell_type": "code",
   "execution_count": 27,
   "metadata": {},
   "outputs": [],
   "source": [
    "class LSTMComponent(nn.Module):\n",
    "    def __init__(self, hidden_dim, output_dim):\n",
    "        super(LSTMComponent, self).__init__()\n",
    "        self.lstm = nn.LSTM(input_size=hidden_dim, hidden_size=hidden_dim, batch_first=True)\n",
    "        self.fc = nn.Linear(hidden_dim, output_dim)\n",
    "\n",
    "    def forward(self, input):\n",
    "        packed_input = pack_sequence(input, enforce_sorted=False)\n",
    "        packed_output, (hidden, cell) = self.lstm(packed_input)\n",
    "        return self.fc(hidden.squeeze(0))\n",
    "\n",
    "class RecommenderModel(nn.Module):\n",
    "    def __init__(self, industry_size, max_product_name_size, product_category_size, hidden_dim):\n",
    "        super(RecommenderModel, self).__init__()\n",
    "\n",
    "        self.industry_embedding = nn.Embedding(num_embeddings=industry_size, embedding_dim=32)\n",
    "        self.product_name_embedding = nn.Embedding(num_embeddings=max_product_name_size, embedding_dim=hidden_dim)\n",
    "        self.product_category_embedding = nn.Embedding(num_embeddings=product_category_size, embedding_dim=hidden_dim)\n",
    "        self.product_is_implemented_embedding = nn.Embedding(num_embeddings=2, embedding_dim=hidden_dim)\n",
    "\n",
    "        self.lstm = LSTMComponent(hidden_dim=hidden_dim * 3, output_dim=32)\n",
    "\n",
    "        self.fc1 = nn.Linear(64, 32)\n",
    "        self.fc2 = nn.Linear(32, max_product_name_size)\n",
    "\n",
    "        self.dropout = nn.Dropout(p=0.2)\n",
    "\n",
    "    def forward(self, industry, product_name, product_category, product_is_implemented, product_name_size):\n",
    "        industry_embedded = self.industry_embedding(industry)\n",
    "        product_name_embedded = self.product_name_embedding(product_name)\n",
    "        product_category_embedded = self.product_category_embedding(product_category)\n",
    "        product_is_implemented_embedded = self.product_is_implemented_embedding(product_is_implemented)\n",
    "\n",
    "        product_embedded = torch.cat([product_name_embedded, product_category_embedded, product_is_implemented_embedded], dim=-1)\n",
    "\n",
    "        product = self.lstm(product_embedded)\n",
    "\n",
    "        combined = torch.cat([industry_embedded, product], dim=1)\n",
    "\n",
    "        x = F.relu(self.fc1(combined))\n",
    "        x = self.dropout(x)\n",
    "        output = self.fc2(x)\n",
    "\n",
    "        output = output[:, :product_name_size]\n",
    "\n",
    "        return output\n"
   ]
  },
  {
   "cell_type": "code",
   "execution_count": 28,
   "metadata": {},
   "outputs": [],
   "source": [
    "model = RecommenderModel(\n",
    "    industry_size,\n",
    "    product_name_size,\n",
    "    product_category_size,\n",
    "    hidden_dim=256\n",
    ").to(device)"
   ]
  },
  {
   "cell_type": "code",
   "execution_count": 29,
   "metadata": {},
   "outputs": [],
   "source": [
    "batch_size = 2\n",
    "industry_1 = torch.randint(0, industry_size, (batch_size,), device=device)\n",
    "product_1 = torch.randint(0, product_name_size, (batch_size, 2), device=device)\n",
    "product_2 = torch.randint(0, product_category_size, (batch_size, 2), device=device)\n",
    "product_3 = torch.randint(0, 2, (batch_size, 2), device=device)"
   ]
  },
  {
   "cell_type": "code",
   "execution_count": 30,
   "metadata": {},
   "outputs": [
    {
     "data": {
      "text/plain": [
       "torch.Size([2, 20])"
      ]
     },
     "execution_count": 30,
     "metadata": {},
     "output_type": "execute_result"
    }
   ],
   "source": [
    "result = model(industry_1, product_1, product_2, product_3, product_name_size)\n",
    "result.shape"
   ]
  },
  {
   "cell_type": "code",
   "execution_count": 48,
   "metadata": {},
   "outputs": [
    {
     "ename": "SyntaxError",
     "evalue": "expected ':' (306478829.py, line 9)",
     "output_type": "error",
     "traceback": [
      "\u001b[1;36m  Cell \u001b[1;32mIn[48], line 9\u001b[1;36m\u001b[0m\n\u001b[1;33m    def __init__(self, input, output)\u001b[0m\n\u001b[1;37m                                     ^\u001b[0m\n\u001b[1;31mSyntaxError\u001b[0m\u001b[1;31m:\u001b[0m expected ':'\n"
     ]
    }
   ],
   "source": [
    "data = pd.read_csv('dataset.csv')\n",
    "\n",
    "industry = data[\"Industry\"].tolist()\n",
    "product_name = data[\"ProductName\"].tolist()\n",
    "product_category = data[\"ProductCategory\"].tolist()\n",
    "product_is_implemented = data[\"ProductIsImplemented\"].tolist()\n",
    "\n",
    "class RecommenderDataset(Dataset):\n",
    "    def __init__(self, input, output)"
   ]
  },
  {
   "cell_type": "code",
   "execution_count": null,
   "metadata": {},
   "outputs": [],
   "source": []
  }
 ],
 "metadata": {
  "kernelspec": {
   "display_name": "Python 3",
   "language": "python",
   "name": "python3"
  },
  "language_info": {
   "codemirror_mode": {
    "name": "ipython",
    "version": 3
   },
   "file_extension": ".py",
   "mimetype": "text/x-python",
   "name": "python",
   "nbconvert_exporter": "python",
   "pygments_lexer": "ipython3",
   "version": "3.12.4"
  }
 },
 "nbformat": 4,
 "nbformat_minor": 2
}
